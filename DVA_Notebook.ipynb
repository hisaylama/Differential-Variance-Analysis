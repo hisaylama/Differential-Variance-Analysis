{
 "cells": [
  {
   "cell_type": "markdown",
   "metadata": {},
   "source": [
    "## Differential Variance Analysis\n",
    "\n",
    "Let $I(\\vec{r}, t)$ be an intensity corresponding to a given pixel at an instant $t$ in an image plane $\\vec{r}$. Similarly, $I(\\vec{r}, t + \\Delta t)$ corresponds to the pixel intensity at an instant $t+\\Delta t$. The differential intensity, $\\Delta I$ corresponding to a spatial fluctuation in pixel intensity at an interval $\\Delta t$ is expressed as,\n",
    "\n",
    "\\begin{equation}\n",
    "    \\Delta I(\\vec{r},t, \\Delta t) = I(\\vec{r}, t + \\Delta t) - I(\\vec{r}, t)\n",
    "\\end{equation}\n",
    "\n",
    "The temporal evolution in $\\Delta I$ in a given region of interest, $roi\\in {x,y}$ is obtained by estimating $V(t,\\Delta t)$, given by, \n",
    "\\begin{equation}\n",
    "    V(t,\\Delta t) = \\frac{\\int_{roi\\in\\{x,y\\}} dx dy \\Delta I^2(x,y,t, \\Delta t)}{\\int_{roi\\in\\{x,y\\}} dx dy}\n",
    "\\end{equation}\n",
    "The quantity, $V(t,\\Delta t)$ with an initial time $t$ is estimated at various $\\Delta t$'s such that $\\Delta t_i \\in \\{\\Delta t,2\\Delta t, 3\\Delta t, ..., N\\Delta t \\}$. In order to reduce fluctuation in the quantification of $V(t,\\Delta t)$, it is averaged over various initial time $t$. Now it is expressed as, $\\tilde{V}(\\Delta t)$ given by,\n",
    "\n",
    "\\begin{equation}\n",
    "    \\tilde{V}(\\Delta t) = {\\langle  V(t,\\Delta t) \\rangle}_t \n",
    "\\end{equation}\n",
    "\n",
    "Further a quantity called Overlap parameter, $Q(t, \\Delta t)$ can be estimated given by,\n",
    "\n",
    "\\begin{equation}\n",
    "    Q(t, \\Delta t) = 1 -  \\frac{V(t,\\Delta t)}{V_\\infty}  \n",
    "\\end{equation}\n",
    "\n",
    "\n",
    "\n",
    "Dynamical susceptibility from the fluctuations of the DVA dynamic order paramter; Q:\n",
    "\\begin{equation}\n",
    "    \\chi_4(\\Delta t) = N[\\langle \\tilde{Q}^2(t, \\Delta t)\\rangle - {\\langle \\tilde{Q}(t + \\Delta t)\\rangle}^2]\n",
    "\\end{equation}\n"
   ]
  }
 ],
 "metadata": {
  "kernelspec": {
   "display_name": "Python 3",
   "language": "python",
   "name": "python3"
  },
  "language_info": {
   "codemirror_mode": {
    "name": "ipython",
    "version": 3
   },
   "file_extension": ".py",
   "mimetype": "text/x-python",
   "name": "python",
   "nbconvert_exporter": "python",
   "pygments_lexer": "ipython3",
   "version": "3.8.5"
  }
 },
 "nbformat": 4,
 "nbformat_minor": 4
}
